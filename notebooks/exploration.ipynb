{
 "cells": [
  {
   "cell_type": "markdown",
   "metadata": {},
   "source": [
    "# This notebook is just made for exploratory data analysis "
   ]
  },
  {
   "cell_type": "code",
   "execution_count": 3,
   "metadata": {},
   "outputs": [],
   "source": [
    "import pandas as pd"
   ]
  },
  {
   "cell_type": "markdown",
   "metadata": {},
   "source": [
    "## Loading the data"
   ]
  },
  {
   "cell_type": "code",
   "execution_count": 4,
   "metadata": {},
   "outputs": [],
   "source": [
    "df = pd.read_parquet(\"/home/navarch/DNS-analysis-datascience/data/raw/dummy_dns_data.parquet\")"
   ]
  },
  {
   "cell_type": "markdown",
   "metadata": {},
   "source": [
    "## Displaying first few rows for just checking"
   ]
  },
  {
   "cell_type": "code",
   "execution_count": 5,
   "metadata": {},
   "outputs": [
    {
     "data": {
      "text/html": [
       "<div>\n",
       "<style scoped>\n",
       "    .dataframe tbody tr th:only-of-type {\n",
       "        vertical-align: middle;\n",
       "    }\n",
       "\n",
       "    .dataframe tbody tr th {\n",
       "        vertical-align: top;\n",
       "    }\n",
       "\n",
       "    .dataframe thead th {\n",
       "        text-align: right;\n",
       "    }\n",
       "</style>\n",
       "<table border=\"1\" class=\"dataframe\">\n",
       "  <thead>\n",
       "    <tr style=\"text-align: right;\">\n",
       "      <th></th>\n",
       "      <th>timestamp</th>\n",
       "      <th>qname</th>\n",
       "      <th>domain</th>\n",
       "      <th>rcode</th>\n",
       "      <th>ancount</th>\n",
       "      <th>nscount</th>\n",
       "      <th>rrr1</th>\n",
       "      <th>rrr2</th>\n",
       "    </tr>\n",
       "  </thead>\n",
       "  <tbody>\n",
       "    <tr>\n",
       "      <th>0</th>\n",
       "      <td>1690965068</td>\n",
       "      <td>sub65.navya.com</td>\n",
       "      <td>dev.net</td>\n",
       "      <td>3</td>\n",
       "      <td>5</td>\n",
       "      <td>0</td>\n",
       "      <td>[{'clas': 1, 'data': 'data4', 'name': 'sub33.p...</td>\n",
       "      <td>[{'clas': 1, 'data': 'data1', 'name': 'sub17.n...</td>\n",
       "    </tr>\n",
       "    <tr>\n",
       "      <th>1</th>\n",
       "      <td>1692426205</td>\n",
       "      <td>sub51.dev.net</td>\n",
       "      <td>navyait.edu</td>\n",
       "      <td>1</td>\n",
       "      <td>1</td>\n",
       "      <td>1</td>\n",
       "      <td>[{'clas': 1, 'data': 'data68', 'name': 'sub39....</td>\n",
       "      <td>[{'clas': 1, 'data': 'data68', 'name': 'sub82....</td>\n",
       "    </tr>\n",
       "    <tr>\n",
       "      <th>2</th>\n",
       "      <td>1673523673</td>\n",
       "      <td>sub62.navya.com</td>\n",
       "      <td>navyait.edu</td>\n",
       "      <td>4</td>\n",
       "      <td>3</td>\n",
       "      <td>3</td>\n",
       "      <td>[{'clas': 1, 'data': 'data22', 'name': 'sub86....</td>\n",
       "      <td>[{'clas': 1, 'data': 'data93', 'name': 'sub21....</td>\n",
       "    </tr>\n",
       "    <tr>\n",
       "      <th>3</th>\n",
       "      <td>1685835504</td>\n",
       "      <td>sub54.anand.com</td>\n",
       "      <td>navyait.edu</td>\n",
       "      <td>3</td>\n",
       "      <td>1</td>\n",
       "      <td>1</td>\n",
       "      <td>[{'clas': 1, 'data': 'data78', 'name': 'sub92....</td>\n",
       "      <td>[{'clas': 1, 'data': 'data51', 'name': 'sub83....</td>\n",
       "    </tr>\n",
       "    <tr>\n",
       "      <th>4</th>\n",
       "      <td>1686032417</td>\n",
       "      <td>sub15.dev.net</td>\n",
       "      <td>dev.net</td>\n",
       "      <td>4</td>\n",
       "      <td>3</td>\n",
       "      <td>2</td>\n",
       "      <td>[{'clas': 1, 'data': 'data10', 'name': 'sub42....</td>\n",
       "      <td>[{'clas': 1, 'data': 'data10', 'name': 'sub94....</td>\n",
       "    </tr>\n",
       "  </tbody>\n",
       "</table>\n",
       "</div>"
      ],
      "text/plain": [
       "    timestamp            qname       domain  rcode  ancount  nscount  \\\n",
       "0  1690965068  sub65.navya.com      dev.net      3        5        0   \n",
       "1  1692426205    sub51.dev.net  navyait.edu      1        1        1   \n",
       "2  1673523673  sub62.navya.com  navyait.edu      4        3        3   \n",
       "3  1685835504  sub54.anand.com  navyait.edu      3        1        1   \n",
       "4  1686032417    sub15.dev.net      dev.net      4        3        2   \n",
       "\n",
       "                                                rrr1  \\\n",
       "0  [{'clas': 1, 'data': 'data4', 'name': 'sub33.p...   \n",
       "1  [{'clas': 1, 'data': 'data68', 'name': 'sub39....   \n",
       "2  [{'clas': 1, 'data': 'data22', 'name': 'sub86....   \n",
       "3  [{'clas': 1, 'data': 'data78', 'name': 'sub92....   \n",
       "4  [{'clas': 1, 'data': 'data10', 'name': 'sub42....   \n",
       "\n",
       "                                                rrr2  \n",
       "0  [{'clas': 1, 'data': 'data1', 'name': 'sub17.n...  \n",
       "1  [{'clas': 1, 'data': 'data68', 'name': 'sub82....  \n",
       "2  [{'clas': 1, 'data': 'data93', 'name': 'sub21....  \n",
       "3  [{'clas': 1, 'data': 'data51', 'name': 'sub83....  \n",
       "4  [{'clas': 1, 'data': 'data10', 'name': 'sub94....  "
      ]
     },
     "execution_count": 5,
     "metadata": {},
     "output_type": "execute_result"
    }
   ],
   "source": [
    "df.head()"
   ]
  }
 ],
 "metadata": {
  "kernelspec": {
   "display_name": "navenv",
   "language": "python",
   "name": "python3"
  },
  "language_info": {
   "codemirror_mode": {
    "name": "ipython",
    "version": 3
   },
   "file_extension": ".py",
   "mimetype": "text/x-python",
   "name": "python",
   "nbconvert_exporter": "python",
   "pygments_lexer": "ipython3",
   "version": "3.12.4"
  }
 },
 "nbformat": 4,
 "nbformat_minor": 2
}

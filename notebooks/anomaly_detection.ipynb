{
 "cells": [
  {
   "cell_type": "markdown",
   "metadata": {},
   "source": [
    "# This file is just for exploratory data anomaly detection"
   ]
  },
  {
   "cell_type": "code",
   "execution_count": 1,
   "metadata": {},
   "outputs": [],
   "source": [
    "from pyspark.sql import SparkSession\n",
    "from pyspark.sql.functions import col"
   ]
  },
  {
   "cell_type": "markdown",
   "metadata": {},
   "source": [
    "## Now, starting a spark session and searching anomalies on the basis of high rcode values"
   ]
  },
  {
   "cell_type": "code",
   "execution_count": 2,
   "metadata": {},
   "outputs": [
    {
     "name": "stderr",
     "output_type": "stream",
     "text": [
      "Setting default log level to \"WARN\".\n",
      "To adjust logging level use sc.setLogLevel(newLevel). For SparkR, use setLogLevel(newLevel).\n",
      "24/07/04 17:01:55 WARN NativeCodeLoader: Unable to load native-hadoop library for your platform... using builtin-java classes where applicable\n"
     ]
    }
   ],
   "source": [
    "spark = SparkSession.builder \\\n",
    "    .appName(\"AnomalyDetection\") \\\n",
    "    .getOrCreate()"
   ]
  },
  {
   "cell_type": "markdown",
   "metadata": {},
   "source": [
    "## Reading Processed Data"
   ]
  },
  {
   "cell_type": "code",
   "execution_count": 3,
   "metadata": {},
   "outputs": [],
   "source": [
    "df = spark.read.parquet(\"/home/navarch/DNS-analysis-datascience/data/processed/processed_dns_data.parquet\")"
   ]
  },
  {
   "cell_type": "markdown",
   "metadata": {},
   "source": [
    "## Anomaly detection\n"
   ]
  },
  {
   "cell_type": "code",
   "execution_count": 4,
   "metadata": {},
   "outputs": [
    {
     "name": "stdout",
     "output_type": "stream",
     "text": [
      "+----------+-----------------+-----------+-----+-------+-------+------------------------------------------+-------------------------------------------+\n",
      "|timestamp |qname            |domain     |rcode|ancount|nscount|rrr1                                      |rrr2                                       |\n",
      "+----------+-----------------+-----------+-----+-------+-------+------------------------------------------+-------------------------------------------+\n",
      "|1673523673|sub62.navya.com  |navyait.edu|4    |3      |3      |[{1, data22, sub86.navya.com, 71945, 1}]  |[{1, data93, sub21.dev.net, 25441, 6}]     |\n",
      "|1686032417|sub15.dev.net    |dev.net    |4    |3      |2      |[{1, data10, sub42.anand.com, 5183, 1}]   |[{1, data10, sub94.navya.com, 82376, 15}]  |\n",
      "|1681867238|sub51.navya.com  |navyait.edu|4    |0      |4      |[{1, data15, sub65.navya.com, 10586, 6}]  |[{1, data53, sub81.navyait.edu, 85460, 10}]|\n",
      "|1676032922|sub9.navyait.edu |navya.com  |4    |0      |0      |[{1, data17, sub27.navya.com, 70271, 1}]  |[{1, data66, sub47.navyait.edu, 67553, 5}] |\n",
      "|1679870861|sub23.dev.net    |navya.com  |5    |5      |2      |[{1, data26, sub54.pentest.org, 27293, 1}]|[{1, data69, sub38.navya.com, 2584, 10}]   |\n",
      "|1677165063|sub60.pentest.org|pentest.org|5    |5      |0      |[{1, data70, sub65.dev.net, 57750, 15}]   |[{1, data66, sub20.pentest.org, 22124, 2}] |\n",
      "|1687217659|sub95.pentest.org|anand.com  |4    |4      |4      |[{1, data55, sub40.navyait.edu, 53617, 5}]|[{1, data46, sub83.dev.net, 25326, 10}]    |\n",
      "|1676224388|sub76.navya.com  |navya.com  |4    |1      |0      |[{1, data65, sub93.pentest.org, 51505, 1}]|[{1, data87, sub92.navya.com, 52382, 2}]   |\n",
      "|1681378470|sub62.dev.net    |navyait.edu|4    |2      |3      |[{1, data59, sub97.navya.com, 3137, 15}]  |[{1, data18, sub18.dev.net, 83057, 10}]    |\n",
      "|1683348777|sub81.pentest.org|pentest.org|4    |3      |5      |[{1, data4, sub33.pentest.org, 12781, 5}] |[{1, data52, sub2.dev.net, 59485, 6}]      |\n",
      "|1692740763|sub82.navyait.edu|dev.net    |5    |4      |5      |[{1, data85, sub75.navyait.edu, 26577, 2}]|[{1, data30, sub88.pentest.org, 15609, 1}] |\n",
      "|1676860204|sub86.navya.com  |navyait.edu|4    |5      |3      |[{1, data80, sub61.dev.net, 58328, 10}]   |[{1, data24, sub96.dev.net, 75733, 10}]    |\n",
      "|1698156390|sub32.dev.net    |dev.net    |5    |5      |2      |[{1, data67, sub40.dev.net, 50792, 2}]    |[{1, data37, sub34.dev.net, 3060, 6}]      |\n",
      "|1677852721|sub85.navyait.edu|pentest.org|5    |5      |4      |[{1, data48, sub84.pentest.org, 66079, 5}]|[{1, data95, sub100.navya.com, 19965, 6}]  |\n",
      "|1677752147|sub13.dev.net    |navya.com  |5    |0      |4      |[{1, data33, sub64.pentest.org, 60101, 1}]|[{1, data89, sub44.navya.com, 48212, 6}]   |\n",
      "|1685225633|sub84.dev.net    |dev.net    |4    |2      |5      |[{1, data94, sub57.navyait.edu, 66394, 1}]|[{1, data39, sub80.navyait.edu, 84469, 10}]|\n",
      "|1674254419|sub7.anand.com   |pentest.org|5    |3      |1      |[{1, data77, sub90.navya.com, 62734, 1}]  |[{1, data32, sub88.anand.com, 19925, 2}]   |\n",
      "|1673119344|sub71.pentest.org|navyait.edu|4    |1      |3      |[{1, data64, sub5.pentest.org, 50969, 10}]|[{1, data70, sub28.dev.net, 59741, 10}]    |\n",
      "|1697642685|sub49.navyait.edu|anand.com  |4    |4      |1      |[{1, data64, sub55.navyait.edu, 80476, 1}]|[{1, data26, sub20.anand.com, 58503, 2}]   |\n",
      "|1699229603|sub18.anand.com  |anand.com  |5    |5      |5      |[{1, data60, sub1.pentest.org, 17272, 5}] |[{1, data13, sub44.anand.com, 76356, 6}]   |\n",
      "+----------+-----------------+-----------+-----+-------+-------+------------------------------------------+-------------------------------------------+\n",
      "only showing top 20 rows\n",
      "\n"
     ]
    }
   ],
   "source": [
    "anomalies = df.filter(col(\"rcode\") > 3)\n",
    "anomalies.show(truncate=False)"
   ]
  },
  {
   "cell_type": "markdown",
   "metadata": {},
   "source": [
    "## Let's just stop the spark session now"
   ]
  },
  {
   "cell_type": "code",
   "execution_count": 5,
   "metadata": {},
   "outputs": [],
   "source": [
    "spark.stop()"
   ]
  }
 ],
 "metadata": {
  "kernelspec": {
   "display_name": "navenv",
   "language": "python",
   "name": "python3"
  },
  "language_info": {
   "codemirror_mode": {
    "name": "ipython",
    "version": 3
   },
   "file_extension": ".py",
   "mimetype": "text/x-python",
   "name": "python",
   "nbconvert_exporter": "python",
   "pygments_lexer": "ipython3",
   "version": "3.12.4"
  }
 },
 "nbformat": 4,
 "nbformat_minor": 2
}
